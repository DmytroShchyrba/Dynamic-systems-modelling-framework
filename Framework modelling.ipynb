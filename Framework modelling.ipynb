{
 "cells": [
  {
   "cell_type": "code",
   "execution_count": 1,
   "metadata": {
    "collapsed": true,
    "ExecuteTime": {
     "start_time": "2023-04-23T18:17:33.550132Z",
     "end_time": "2023-04-23T18:17:35.360932Z"
    }
   },
   "outputs": [],
   "source": [
    "import matplotlib.pyplot as plt\n",
    "from abc import ABC, abstractmethod\n",
    "from scipy.integrate import odeint\n",
    "import scipy\n",
    "import numpy as np\n",
    "from scipy.integrate import solve_ivp"
   ]
  },
  {
   "cell_type": "code",
   "execution_count": 2,
   "outputs": [],
   "source": [
    "class DifferentialEquation:\n",
    "    def __init__(self, initial_values):\n",
    "        self.initial_values = initial_values\n",
    "\n",
    "    def step(self, state, t):\n",
    "        pass\n",
    "\n",
    "    def solve(self, dt, time, solver):\n",
    "        return solver.solve(self, dt, time)"
   ],
   "metadata": {
    "collapsed": false,
    "ExecuteTime": {
     "start_time": "2023-04-23T18:17:37.048230Z",
     "end_time": "2023-04-23T18:17:37.072644Z"
    }
   }
  },
  {
   "cell_type": "code",
   "execution_count": 3,
   "outputs": [],
   "source": [
    "class Solver(ABC):\n",
    "    @abstractmethod\n",
    "    def solve(self, equation, dt, time):\n",
    "        pass"
   ],
   "metadata": {
    "collapsed": false,
    "ExecuteTime": {
     "start_time": "2023-04-23T18:17:43.147863Z",
     "end_time": "2023-04-23T18:17:43.177508Z"
    }
   }
  },
  {
   "cell_type": "code",
   "execution_count": 4,
   "outputs": [],
   "source": [
    "class ErrorFinder:\n",
    "    def __init__(self, error_finder):\n",
    "        self.error_finder = error_finder\n",
    "\n",
    "    def error_measure(self):\n",
    "        pass"
   ],
   "metadata": {
    "collapsed": false,
    "ExecuteTime": {
     "start_time": "2023-04-23T18:17:44.095318Z",
     "end_time": "2023-04-23T18:17:44.127281Z"
    }
   }
  },
  {
   "cell_type": "code",
   "execution_count": 5,
   "outputs": [],
   "source": [
    "class NumericalEquation(DifferentialEquation):\n",
    "    def __init__(self):\n",
    "        pass\n",
    "    def step(self, state, t):\n",
    "        pass"
   ],
   "metadata": {
    "collapsed": false,
    "ExecuteTime": {
     "start_time": "2023-04-23T18:17:45.302134Z",
     "end_time": "2023-04-23T18:17:45.323105Z"
    }
   }
  },
  {
   "cell_type": "code",
   "execution_count": 6,
   "outputs": [],
   "source": [
    "class AnalyticalEquation(DifferentialEquation):\n",
    "    def __init__(self):\n",
    "        pass\n",
    "    def equation(self,t):\n",
    "        pass"
   ],
   "metadata": {
    "collapsed": false,
    "ExecuteTime": {
     "start_time": "2023-04-23T18:18:36.359851Z",
     "end_time": "2023-04-23T18:18:36.380884Z"
    }
   }
  },
  {
   "cell_type": "code",
   "execution_count": 7,
   "outputs": [],
   "source": [
    "class NumericalSolver(Solver):\n",
    "    def __init__(self):\n",
    "        pass\n",
    "    def solve(self):\n",
    "        pass"
   ],
   "metadata": {
    "collapsed": false,
    "ExecuteTime": {
     "start_time": "2023-04-23T18:18:37.232605Z",
     "end_time": "2023-04-23T18:18:37.252886Z"
    }
   }
  },
  {
   "cell_type": "code",
   "execution_count": 8,
   "outputs": [],
   "source": [
    "class AnalyticalSolver(Solver):\n",
    "    def __init__(self):\n",
    "        pass\n",
    "    def solve(self):\n",
    "        pass"
   ],
   "metadata": {
    "collapsed": false,
    "ExecuteTime": {
     "start_time": "2023-04-23T18:18:38.046129Z",
     "end_time": "2023-04-23T18:18:38.092074Z"
    }
   }
  },
  {
   "cell_type": "code",
   "execution_count": 7,
   "outputs": [],
   "source": [
    "class EulerSolver(NumericalSolver):\n",
    "    def __init__(self):\n",
    "        pass\n",
    "\n",
    "    def solve(self, equation,initial_values, dt, time):\n",
    "        t = np.arange(0, time, dt)\n",
    "        states = np.zeros((len(t), len(initial_values)))\n",
    "        states[0] = initial_values\n",
    "\n",
    "        for i in range(len(t) - 1):\n",
    "            state = states[i]\n",
    "            state_dt = equation.step(state, t[i])\n",
    "            state_next = state + np.array(state_dt) * dt\n",
    "            states[i + 1] = state_next\n",
    "\n",
    "        return states"
   ],
   "metadata": {
    "collapsed": false
   }
  },
  {
   "cell_type": "code",
   "execution_count": 17,
   "outputs": [],
   "source": [
    "class AdvancedErrorFinder(ErrorFinder):\n",
    "    def __init__(self,app_matrix,exact_matrix):\n",
    "        self.app_matrix = app_matrix\n",
    "        self.exact_matrix = exact_matrix\n",
    "\n",
    "    def relative_error(self):\n",
    "        app = self.app_matrix\n",
    "        exact = self.exact_matrix\n",
    "        error = exact - app\n",
    "        return np.mean(np.abs(error / exact), axis=0)\n",
    "\n",
    "    def kolmogorov_smirnov_test(self):\n",
    "        app = self.app_matrix\n",
    "        exact = self.exact_matrix\n",
    "        error = exact - app\n",
    "        mean_error = np.mean(error, axis=0)\n",
    "        std_error = np.std(error, axis=0)\n",
    "        ks_statistic, p_value = scipy.stats.kstest((error - mean_error) / std_error, 'norm')\n",
    "        return ks_statistic, p_value\n",
    "\n",
    "    def akaike_information_criterion(self, num_params):\n",
    "        app = self.app_matrix\n",
    "        exact = self.exact_matrix\n",
    "        error = exact - app\n",
    "        num_time_steps = app.shape[0]\n",
    "        mse = np.sum(error**2) / (num_time_steps * app.shape[1])\n",
    "        aic = num_time_steps * app.shape[1] * np.log(mse) + 2 * num_params\n",
    "        return aic"
   ],
   "metadata": {
    "collapsed": false,
    "ExecuteTime": {
     "start_time": "2023-04-23T15:59:29.710459Z",
     "end_time": "2023-04-23T15:59:29.925002Z"
    }
   }
  },
  {
   "cell_type": "code",
   "execution_count": 16,
   "outputs": [],
   "source": [
    "class BasicErrorFinder(ErrorFinder):\n",
    "\n",
    "    def __init__(self,app_matrix,exact_matrix):\n",
    "        self.app_matrix = app_matrix\n",
    "        self.exact_matrix = exact_matrix\n",
    "\n",
    "    def mean_residual_error(self):\n",
    "        app = self.app_matrix\n",
    "        exact = self.exact_matrix\n",
    "        error = exact - app\n",
    "        return np.mean(error,axis=0)\n",
    "\n",
    "    def mean_squared_error(self):\n",
    "        app = self.app_matrix\n",
    "        exact = self.exact_matrix\n",
    "        error = exact - app\n",
    "        return np.mean(error**2,axis=0)\n",
    "\n",
    "    def root_mean_squared_error(self):\n",
    "        app = self.app_matrix\n",
    "        exact = self.exact_matrix\n",
    "        error = exact - app\n",
    "        return np.sqrt(np.mean(error**2, axis=0))\n",
    "\n",
    "    def max_absolute_error(self):\n",
    "        app = self.app_matrix\n",
    "        exact = self.exact_matrix\n",
    "        error = np.abs(exact - app)\n",
    "        return np.max(error, axis=0)"
   ],
   "metadata": {
    "collapsed": false
   }
  },
  {
   "cell_type": "code",
   "execution_count": 8,
   "outputs": [],
   "source": [
    "class OdeintSolver(NumericalSolver):\n",
    "    def __init__(self):\n",
    "        pass\n",
    "\n",
    "    def solve(self, equation,initial_values, dt,time):\n",
    "        t = np.linspace(0, time, int(time / dt))\n",
    "        states = odeint(equation.step, initial_values, t)\n",
    "        return states"
   ],
   "metadata": {
    "collapsed": false
   }
  },
  {
   "cell_type": "code",
   "execution_count": 9,
   "outputs": [],
   "source": [
    "class LorenzNumeric(NumericalEquation):\n",
    "    state_variables = ['x','y','z']\n",
    "    def __init__(self, s, r, b,dimension=3):\n",
    "        self.s = s\n",
    "        self.r = r\n",
    "        self.b = b\n",
    "        self.dimension = dimension\n",
    "\n",
    "    def step(self, state, t):\n",
    "        x, y, z = state\n",
    "        x_dt = self.s * (y - x)\n",
    "        y_dt = self.r * x - y - x * z\n",
    "        z_dt = x * y - self.b * z\n",
    "        return [x_dt, y_dt, z_dt]"
   ],
   "metadata": {
    "collapsed": false
   }
  },
  {
   "cell_type": "code",
   "execution_count": 10,
   "outputs": [],
   "source": [
    "class LotkaVolterraNumeric(NumericalEquation):\n",
    "    def __init__(self, alpha, beta, gamma, delta,dimension=2):\n",
    "        self.alpha = alpha\n",
    "        self.beta = beta\n",
    "        self.gamma = gamma\n",
    "        self.delta = delta\n",
    "        self.dimension = dimension\n",
    "    def step(self, state, t):\n",
    "        x, y = state\n",
    "        x_dt = self.alpha * x - self.beta * x * y\n",
    "        y_dt = self.delta * x * y - self.gamma * y\n",
    "        return [x_dt, y_dt]"
   ],
   "metadata": {
    "collapsed": false
   }
  },
  {
   "cell_type": "code",
   "execution_count": 11,
   "outputs": [],
   "source": [
    "class Plotter:\n",
    "    def __init__(self, equation_solver):\n",
    "        self.equation_solver = equation_solver\n",
    "\n",
    "    def plot3d(self, equation,initial_values, color, dt, end, name='3D Plot'):\n",
    "        xyz = self.equation_solver.solve(equation,initial_values, dt, end)\n",
    "        fig = plt.figure(figsize=(12, 9))\n",
    "        num_axes = xyz.shape[1]\n",
    "        axs = fig.subplots(nrows=1, ncols=num_axes, subplot_kw={'projection': '3d'})\n",
    "\n",
    "        for i in range(num_axes):\n",
    "            ax = axs[i]\n",
    "            ax.plot(xyz[:, i], xyz[:, (i+1)%num_axes], xyz[:, (i+2)%num_axes], color=color, alpha=0.7, linewidth=0.7)\n",
    "            ax.set_xlabel(f\"os {i}\")\n",
    "            ax.set_ylabel(f\"os {(i+1)%num_axes}\")\n",
    "            ax.set_zlabel(f\"os {(i+2)%num_axes}\")\n",
    "            ax.set_title(name)\n",
    "\n",
    "        plt.show()\n",
    "\n",
    "    def plot_combinations(self, equation,initial_values, dt, time, color, names=None):\n",
    "        xyz = self.equation_solver.solve(equation,initial_values, dt, time)\n",
    "        num_plots = xyz.shape[1] * (xyz.shape[1] - 1) // 2\n",
    "\n",
    "        if names is None:\n",
    "            names = [f\"Variable {i+1}\" for i in range(xyz.shape[1])]\n",
    "\n",
    "        fig, axs = plt.subplots(1, num_plots, figsize=(18, 5))\n",
    "\n",
    "        axs = np.ravel(axs) # convert axs to a 1D numpy array\n",
    "\n",
    "        plot_index = 0\n",
    "        for i in range(xyz.shape[1]):\n",
    "            for j in range(i+1, xyz.shape[1]):\n",
    "                ax = axs[plot_index]\n",
    "                ax.plot(xyz[:, i], xyz[:, j], color=color, markersize=1)\n",
    "                ax.set_xlabel(names[i])\n",
    "                ax.set_ylabel(names[j])\n",
    "                plot_index += 1\n",
    "\n",
    "        plt.show()"
   ],
   "metadata": {
    "collapsed": false
   }
  }
 ],
 "metadata": {
  "kernelspec": {
   "display_name": "Python 3",
   "language": "python",
   "name": "python3"
  },
  "language_info": {
   "codemirror_mode": {
    "name": "ipython",
    "version": 2
   },
   "file_extension": ".py",
   "mimetype": "text/x-python",
   "name": "python",
   "nbconvert_exporter": "python",
   "pygments_lexer": "ipython2",
   "version": "2.7.6"
  }
 },
 "nbformat": 4,
 "nbformat_minor": 0
}
